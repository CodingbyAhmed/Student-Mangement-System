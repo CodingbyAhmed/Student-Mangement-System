{
  "nbformat": 4,
  "nbformat_minor": 0,
  "metadata": {
    "colab": {
      "provenance": []
    },
    "kernelspec": {
      "name": "python3",
      "display_name": "Python 3"
    },
    "language_info": {
      "name": "python"
    }
  },
  "cells": [
    {
      "cell_type": "code",
      "execution_count": null,
      "metadata": {
        "colab": {
          "base_uri": "https://localhost:8080/"
        },
        "id": "gpBr_OFV8pe1",
        "outputId": "2743d33e-2490-47d1-b365-b9b70a7708f4"
      },
      "outputs": [
        {
          "output_type": "stream",
          "name": "stdout",
          "text": [
            "Student 1 - Name: John Doe\n",
            "Enrolled Courses: ['Mathematics', 'English']\n",
            "Grades: {'Mathematics': 'A', 'English': 'B'}\n",
            "\n",
            "Student 2 - Name: Jane Smith\n",
            "Enrolled Courses: ['Physics', 'Chemistry']\n",
            "Grades: {'Physics': 'B', 'Chemistry': 'A'}\n",
            "\n",
            "Student 3 - Name: Alice Johnson\n",
            "Enrolled Courses: ['History', 'Geography']\n",
            "Grades: {'History': 'A', 'Geography': 'A'}\n"
          ]
        }
      ],
      "source": [
        "class Student:\n",
        "    def __init__(self, name, age, roll_number):\n",
        "        self.name = name\n",
        "        self.age = age\n",
        "        self.roll_number = roll_number\n",
        "        self.enrolled_courses = []\n",
        "        self.grades = {}\n",
        "\n",
        "    def enroll_course(self, course_name):\n",
        "        self.enrolled_courses.append(course_name)\n",
        "\n",
        "    def record_grade(self, course_name, grade):\n",
        "        self.grades[course_name] = grade\n",
        "\n",
        "    def view_enrolled_courses(self):\n",
        "        return self.enrolled_courses\n",
        "\n",
        "    def view_grades(self):\n",
        "        return self.grades\n",
        "\n",
        "# Creating student instances\n",
        "student1 = Student(\"John Doe\", 20, \"S001\")\n",
        "student2 = Student(\"Jane Smith\", 21, \"S002\")\n",
        "student3 = Student(\"Alice Johnson\", 19, \"S003\")\n",
        "\n",
        "# Enrolling students in courses and recording grades\n",
        "student1.enroll_course(\"Mathematics\")\n",
        "student1.enroll_course(\"English\")\n",
        "student1.record_grade(\"Mathematics\", \"A\")\n",
        "student1.record_grade(\"English\", \"B\")\n",
        "\n",
        "student2.enroll_course(\"Physics\")\n",
        "student2.enroll_course(\"Chemistry\")\n",
        "student2.record_grade(\"Physics\", \"B\")\n",
        "student2.record_grade(\"Chemistry\", \"A\")\n",
        "\n",
        "student3.enroll_course(\"History\")\n",
        "student3.enroll_course(\"Geography\")\n",
        "student3.record_grade(\"History\", \"A\")\n",
        "student3.record_grade(\"Geography\", \"A\")\n",
        "\n",
        "# Displaying data for each student\n",
        "print(\"Student 1 - Name:\", student1.name)\n",
        "print(\"Enrolled Courses:\", student1.view_enrolled_courses())\n",
        "print(\"Grades:\", student1.view_grades())\n",
        "print()\n",
        "\n",
        "print(\"Student 2 - Name:\", student2.name)\n",
        "print(\"Enrolled Courses:\", student2.view_enrolled_courses())\n",
        "print(\"Grades:\", student2.view_grades())\n",
        "print()\n",
        "\n",
        "print(\"Student 3 - Name:\", student3.name)\n",
        "print(\"Enrolled Courses:\", student3.view_enrolled_courses())\n",
        "print(\"Grades:\", student3.view_grades())"
      ]
    }
  ]
}